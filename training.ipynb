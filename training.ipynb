{
 "cells": [
  {
   "cell_type": "code",
   "execution_count": null,
   "metadata": {},
   "outputs": [],
   "source": [
    "#IMPORT THE NECESSARY LIBRARIES.\n",
    "from transformers import AutoModelForCausalLM, Autotokenizer, TrainingArguments, Trainer\n",
    "from datasets import load_from_disk\n",
    "import evaluate\n",
    "import math "
   ]
  },
  {
   "cell_type": "code",
   "execution_count": null,
   "metadata": {},
   "outputs": [],
   "source": [
    "#LOAD PREPROCESSED DATA AND MODEL\n",
    "tokenized_datasets = load_from_disk(\"./preprocessed_datasets\")\n",
    "model = AutoModelForCausalLM.from_pretrained(\"Salesforce/codegen-350M-mono\")\n",
    "tokenizer = Autotokenizer.from_pretrained(\"Salesforce/codegen-350M-mono\")\n",
    "\n",
    "#ADD PADDING TOKEN TO THE MODEL YOU HAD ADDED TO THE TOKENIZER\n",
    "if tokenizer.pad_token is None:\n",
    "    tokenizer.add_special_tokens({'pad_token': ['pad']})\n",
    "    model.resize_token_embeddings(len(tokenizer))"
   ]
  }
 ],
 "metadata": {
  "kernelspec": {
   "display_name": "Sankara-Ai",
   "language": "python",
   "name": "python3"
  },
  "language_info": {
   "name": "python",
   "version": "3.11.5"
  }
 },
 "nbformat": 4,
 "nbformat_minor": 2
}
